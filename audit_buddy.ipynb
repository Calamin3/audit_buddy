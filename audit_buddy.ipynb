{
 "cells": [
  {
   "cell_type": "code",
   "execution_count": 32,
   "metadata": {},
   "outputs": [],
   "source": [
    "import pandas as pd\n",
    "import os\n",
    "from openai import OpenAI\n",
    "from dotenv import load_dotenv\n",
    "\n",
    "from crewai import Agent, Task, Crew\n",
    "from crewai_tools import SerperDevTool"
   ]
  },
  {
   "cell_type": "code",
   "execution_count": 33,
   "metadata": {},
   "outputs": [],
   "source": [
    "load_dotenv('.env')\n",
    "os.environ['OPENAI_MODEL_NAME'] = \"gpt-4o-mini\"\n",
    "API_KEY = os.getenv(\"OPENAI_API_KEY\")\n",
    "SERPER_API_KEY = os.getenv(\"SERPER_API_KEY\")\n",
    "client = OpenAI(api_key=API_KEY)"
   ]
  },
  {
   "cell_type": "code",
   "execution_count": null,
   "metadata": {},
   "outputs": [],
   "source": [
    "topic = input(\"Enter the audit topic: \")\n",
    "if topic:\n",
    "    print(\"You entered:\", topic)\n",
    "else:\n",
    "    print(\"Please enter an audit task.\")"
   ]
  },
  {
   "cell_type": "code",
   "execution_count": null,
   "metadata": {},
   "outputs": [],
   "source": [
    "tool = SerperDevTool(n_results=10, country=\"sg\")\n",
    "\n",
    "agent = Agent(\n",
    "    role=\"search agent\",\n",
    "    goal=\"return a list of websites that contain most relevant information, in the context of Singapore, that is related to policy and regulation on {topic} only.\" ,\n",
    "    backstory=\"\"\"You're working on genereating a list of websites that contain most relavant policy and regualtion information on {topic} only..\n",
    "    \"\"\",\n",
    "    allow_delegation=False,\n",
    "    verbose=True,\n",
    ")\n",
    "\n",
    "task = Task(\n",
    "    description=\"\"\"return a list of websites that contain most relevant information, in the context of Singapore, that is related to policy and regulation on {topic} only\n",
    "    \"\"\",\n",
    "    expected_output=\"\"\"\\\n",
    "    A list of websites that contain most relavant policy and regualtion information on {topic} only.\"\"\",\n",
    "\n",
    "    agent=agent,\n",
    "    tools=[tool],\n",
    ")\n",
    "\n",
    "crew = Crew(\n",
    "    agents=[agent],\n",
    "    tasks=[task],\n",
    "    verbose=True\n",
    ")\n",
    "\n",
    "result = crew.kickoff(inputs={\"topic\": topic})"
   ]
  },
  {
   "cell_type": "code",
   "execution_count": null,
   "metadata": {},
   "outputs": [],
   "source": [
    "print(f\"Raw Output: {result.raw}\")\n",
    "print(f\"Token Usage: {result.token_usage}\")\n",
    "print(\"-----------------------------------------\\n\\n\")\n",
    "print(f\"Tasks Output of Task 1: {result.tasks_output[0]}\")\n",
    "print(\"-----------------------------------------\\n\\n\")"
   ]
  },
  {
   "cell_type": "code",
   "execution_count": null,
   "metadata": {},
   "outputs": [],
   "source": [
    "# tool = SerperDevTool(n_results=3, country=\"sg\")\n",
    "\n",
    "# agent = Agent(\n",
    "#     role=\"search agent\",\n",
    "#     goal=\"return most relevant information, in the context of Singapore, that is related to policy and regulation on {topic}\" ,\n",
    "#     backstory=\"\"\"You're working on gathering all relavant policy and regualtion information on {topic}.\n",
    "#     \"\"\",\n",
    "#     allow_delegation=False,\n",
    "#     verbose=True,\n",
    "#     max_iter=40\n",
    "# )\n",
    "\n",
    "# task = Task(\n",
    "#     description=\"\"\"return most relevant information, in the context of Singapore, that is related to policy and regulation on {topic}\n",
    "#     \"\"\",\n",
    "#     expected_output=\"\"\"\\\n",
    "#     A detailed report with most relevant information information that is related to policy and regulation on {topic}.\"\"\",\n",
    "\n",
    "#     agent=agent,\n",
    "#     tools=[tool],\n",
    "# )\n",
    "\n",
    "# crew = Crew(\n",
    "#     agents=[agent],\n",
    "#     tasks=[task],\n",
    "#     verbose=True\n",
    "# )\n",
    "\n",
    "# result = crew.kickoff(inputs={\"topic\": topic})"
   ]
  },
  {
   "cell_type": "code",
   "execution_count": null,
   "metadata": {},
   "outputs": [],
   "source": [
    "# print(f\"Raw Output: {result.raw}\")\n",
    "# print(f\"Token Usage: {result.token_usage}\")\n",
    "# print(\"-----------------------------------------\\n\\n\")\n",
    "# print(f\"Tasks Output of Task 1: {result.tasks_output[0]}\")\n",
    "# print(\"-----------------------------------------\\n\\n\")\n",
    "# # print(f\"Tasks Output of Task 2: {result.tasks_output[1]}\")"
   ]
  },
  {
   "cell_type": "code",
   "execution_count": null,
   "metadata": {},
   "outputs": [],
   "source": []
  }
 ],
 "metadata": {
  "kernelspec": {
   "display_name": "venv",
   "language": "python",
   "name": "python3"
  },
  "language_info": {
   "codemirror_mode": {
    "name": "ipython",
    "version": 3
   },
   "file_extension": ".py",
   "mimetype": "text/x-python",
   "name": "python",
   "nbconvert_exporter": "python",
   "pygments_lexer": "ipython3",
   "version": "3.10.11"
  }
 },
 "nbformat": 4,
 "nbformat_minor": 2
}

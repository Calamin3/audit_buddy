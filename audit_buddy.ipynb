{
 "cells": [
  {
   "cell_type": "code",
   "execution_count": 1,
   "metadata": {},
   "outputs": [],
   "source": [
    "import os\n",
    "from openai import OpenAI\n",
    "from dotenv import load_dotenv\n",
    "\n",
    "from crewai_tools import PDFSearchTool, SerperDevTool, ScrapeWebsiteTool\n",
    "from crewai import Agent, Task, Crew, Process, LLM"
   ]
  },
  {
   "cell_type": "code",
   "execution_count": 2,
   "metadata": {},
   "outputs": [],
   "source": [
    "load_dotenv('.env')\n",
    "\n",
    "SERPER_API_KEY = os.getenv(\"SERPER_API_KEY\")\n",
    "\n",
    "llm = LLM(\n",
    "    model=\"openai/\"+os.getenv(\"OPENAI_MODEL_NAME\"), \n",
    "    api_key=os.getenv(\"OPENAI_API_KEY\"),\n",
    "    base_url=\"https://litellm.govtext.gov.sg/\",\n",
    "    default_headers={\"user-agent\":\"Mozilla/5.0 (X11; Linux x86_64; rv:60.0) Gecko/20100101 Firefox/81.0\"}\n",
    ")"
   ]
  },
  {
   "cell_type": "code",
   "execution_count": 3,
   "metadata": {},
   "outputs": [
    {
     "name": "stdout",
     "output_type": "stream",
     "text": [
      "You entered: baby bonus\n"
     ]
    }
   ],
   "source": [
    "topic = input(\"Enter the audit topic: \")\n",
    "if topic:\n",
    "    print(\"You entered:\", topic)\n",
    "else:\n",
    "    print(\"Please enter an audit task.\")"
   ]
  },
  {
   "cell_type": "code",
   "execution_count": 4,
   "metadata": {},
   "outputs": [
    {
     "name": "stderr",
     "output_type": "stream",
     "text": [
      "2024-10-13 13:17:33,317 - 18260 - _utils.py-_utils:463 - WARNING: Ignoring wrong pointing object 295 0 (offset 0)\n",
      "2024-10-13 13:17:33,318 - 18260 - _utils.py-_utils:463 - WARNING: Ignoring wrong pointing object 669 0 (offset 0)\n",
      "2024-10-13 13:17:33,319 - 18260 - _utils.py-_utils:463 - WARNING: Ignoring wrong pointing object 681 0 (offset 0)\n",
      "Inserting batches in chromadb: 100%|██████████| 3/3 [00:15<00:00,  5.32s/it]\n"
     ]
    }
   ],
   "source": [
    "tool_pdf = PDFSearchTool(\n",
    "    pdf=r'C:\\Users\\limya\\Documents\\AI Bootcamp\\ABC_Project\\audit_buddy\\Files\\AR_2024.pdf',\n",
    "    config=dict(\n",
    "        embedder=dict(\n",
    "            provider=\"openai\",\n",
    "            config=dict(\n",
    "                model=\"text-embedding-3-large-prd-gcc2-lb\"\n",
    "            ),\n",
    "        ),\n",
    "    )\n",
    ")"
   ]
  },
  {
   "cell_type": "code",
   "execution_count": 5,
   "metadata": {},
   "outputs": [],
   "source": [
    "# tool_pdf = PDFSearchTool(pdf=r'C:\\Users\\limya\\Documents\\AI Bootcamp\\ABC_Project\\audit_buddy\\Files\\AR_2024.pdf')\n",
    "# tool_search = SerperDevTool(n_results=5, country=\"sg\")\n",
    "# tool_webscrape = ScrapeWebsiteTool()"
   ]
  },
  {
   "cell_type": "code",
   "execution_count": 6,
   "metadata": {},
   "outputs": [],
   "source": [
    "# auditor = Agent(\n",
    "#     role = \"auditor\",\n",
    "#     goal=\"Return the Audit Planning Memo on {topic} based on inputs from researcher and past audit findings from the audit assistant.\",\n",
    "#     backstory = \"\"\"You are an auditor. You need to consider the inputs from the researcher and audit assistant to determine what to write for the audit planning memo and risk assessment\"\"\",\n",
    "#     allow_delegation = True,\n",
    "#     max_iter = 15,\n",
    "#     verbose = True,\n",
    "#     llm=llm\n",
    "# )\n",
    "\n",
    "# researcher = Agent(\n",
    "#     role=\"researcher\",\n",
    "#     goal=\"From the internet, research and analyse and sieve out information related to {topic} only.\" ,\n",
    "#     backstory=\"\"\"As a researcher, navigating and extracting critical information is crucial. You are assisting the auditor to research on topics relevant to {topic}. \n",
    "#     \"\"\",\n",
    "#     allow_delegation=False,\n",
    "#     verbose=True,\n",
    "#     max_iter = 15,\n",
    "#     llm=llm\n",
    "# )\n",
    "\n",
    "# Audit_asssitant = Agent(\n",
    "#     role = \"Audit assistant\",\n",
    "#     goal =\"From the file provided, extract the audit findings pertaining to {topic} only. Pass the audit findings to auditor\",\n",
    "#     backstory = \"You are an audit assistant. Your job is to extract the past audit findings relating to the {topic} and pass it to the auditor.\",\n",
    "#     allow_delegation=False,\n",
    "#     verbose=True,\n",
    "#     max_iter = 15,\n",
    "#     llm=llm\n",
    "# )\n",
    "\n",
    "# task_search = Task(\n",
    "#     description=\"\"\"Returns a JSON list of websites that contains the top 5 most relevant information, in the context of Singapore, that is related to policy and regulation on {topic} only. Ignore urls that ends with .pdf.\n",
    "#     \"\"\",\n",
    "#     expected_output=\"\"\"\\\n",
    "#     Returns websites that contain the top 5 most relavant policy and regulation information on {topic} only. The output must be in JSON format with the description as the key and url as value.\"\"\",\n",
    "\n",
    "#     agent=researcher,\n",
    "#     tools=[tool_search],\n",
    "# )\n",
    "\n",
    "\n",
    "# task_websitesearch = Task(\n",
    "#     description=\"\"\"Scrape through a website for information related to {topic} only\n",
    "#     \"\"\",\n",
    "#     expected_output=\"\"\"\\\n",
    "#     Summarise the website for information related to {topic} only in the Singapore context. \"\"\",\n",
    "\n",
    "#     agent=researcher,\n",
    "#     tools=[tool_webscrape],\n",
    "#     context = [task_search]\n",
    "# )\n",
    "\n",
    "# task_extract_findings = Task(\n",
    "#     description = \"\"\"Read the pdf file and return the audit findings pertaining to the {topic} and pass it to the auditor\"\"\",\n",
    "#     expected_output= \"\"\"A list of audit findings pertainint to the {topic}\"\"\",\n",
    "#     tools=[tool_pdf],\n",
    "#     agent = Audit_asssitant\n",
    "# )\n",
    "\n",
    "# task_write= Task(\n",
    "#     description=\"\"\"\\\n",
    "#     1. Use the content to craft an audit planning memo and risk assessment based on {topic} .\n",
    "#     2. Sections are properly named in an engaging manner.\n",
    "#     3. Proofread for grammatical errors and alignment with the common style used in audit planning memos.\"\"\",\n",
    "\n",
    "#     expected_output=\"\"\"\n",
    "#     A well-written audit planning memo and risk assessment in markdown format. Each section should have minimum of 2 and maximum of 5 paragraphs.\"\"\",\n",
    "#     agent=auditor,\n",
    "#     context=[task_websitesearch, task_extract_findings],\n",
    "#     output_file=\"APM.md\"\n",
    "# )\n",
    "\n",
    "\n"
   ]
  },
  {
   "cell_type": "code",
   "execution_count": 7,
   "metadata": {},
   "outputs": [],
   "source": [
    "auditor = Agent(\n",
    "    role = \"auditor\",\n",
    "    goal=\"Return the Audit Planning Memo on {topic} based on inputs from researcher and past audit findings from the audit assistant.\",\n",
    "    backstory = \"\"\"You are an auditor. You need to consider the inputs from the audit assistant to determine what to write for the audit planning memo and risk assessment\"\"\",\n",
    "    allow_delegation = True,\n",
    "    max_iter = 15,\n",
    "    verbose = True,\n",
    "    llm=llm\n",
    ")\n",
    "\n",
    "Audit_assistant = Agent(\n",
    "    role = \"Audit assistant\",\n",
    "    goal =\"From the file provided, extract the audit findings pertaining to {topic} only. Pass the audit findings to auditor\",\n",
    "    backstory = \"You are an audit assistant. Your job is to extract the past audit findings relating to the {topic} and pass it to the auditor.\",\n",
    "    allow_delegation=False,\n",
    "    verbose=True,\n",
    "    max_iter = 15,\n",
    "    llm=llm\n",
    ")\n",
    "\n",
    "\n",
    "task_extract_findings = Task(\n",
    "    description = \"\"\"Read the pdf file and return the audit findings pertaining to the {topic} and pass it to the auditor\"\"\",\n",
    "    expected_output= \"\"\"A list of audit findings pertainint to the {topic}\"\"\",\n",
    "    tools=[tool_pdf],\n",
    "    agent = Audit_assistant\n",
    ")\n",
    "\n",
    "task_write= Task(\n",
    "    description=\"\"\"\\\n",
    "    1. Use the content to craft an audit planning memo and risk assessment based on {topic} .\n",
    "    2. Sections are properly named in an engaging manner.\n",
    "    3. Proofread for grammatical errors and alignment with the common style used in audit planning memos.\"\"\",\n",
    "\n",
    "    expected_output=\"\"\"\n",
    "    A well-written audit planning memo and risk assessment in markdown format. Each section should have minimum of 2 and maximum of 5 paragraphs.\"\"\",\n",
    "    agent=auditor,\n",
    "    context=[task_extract_findings],\n",
    "    output_file=\"APM.md\"\n",
    ")\n",
    "\n",
    "\n"
   ]
  },
  {
   "cell_type": "code",
   "execution_count": 8,
   "metadata": {},
   "outputs": [],
   "source": [
    "#creating the crew\n",
    "\n",
    "crew = Crew(\n",
    "    agents=[auditor,Audit_assistant],\n",
    "    tasks=[task_extract_findings,task_write],\n",
    "    verbose=True\n",
    ")\n"
   ]
  },
  {
   "cell_type": "code",
   "execution_count": null,
   "metadata": {},
   "outputs": [
    {
     "name": "stdout",
     "output_type": "stream",
     "text": [
      "\u001b[1m\u001b[95m# Agent:\u001b[00m \u001b[1m\u001b[92mAudit assistant\u001b[00m\n",
      "\u001b[95m## Task:\u001b[00m \u001b[92mRead the pdf file and return the audit findings pertaining to the baby bonus and pass it to the auditor\u001b[00m\n",
      "\n",
      "\n",
      "\u001b[1m\u001b[95m# Agent:\u001b[00m \u001b[1m\u001b[92mAudit assistant\u001b[00m\n",
      "\u001b[95m## Thought:\u001b[00m \u001b[92mTo find the audit findings pertaining to the baby bonus, I will search the PDF document for the term \"baby bonus.\"\u001b[00m\n",
      "\u001b[95m## Using tool:\u001b[00m \u001b[92mSearch a PDF's content\u001b[00m\n",
      "\u001b[95m## Tool Input:\u001b[00m \u001b[92m\n",
      "\"{\\\"query\\\": \\\"baby bonus\\\"}\"\u001b[00m\n",
      "\u001b[95m## Tool Output:\u001b[00m \u001b[92m\n",
      "Relevant Content:\n",
      "Government CDA Withdrawals First Step Grant $231.1 million Government Co-matching Grant $294.6 millionTotal Amount $1.49 billion Total Transactions 4.42 million Number of Approved Institutions as at 11 September 2023 4,848Baby Bonus Scheme – CDA Benefits (1 April 2021 to 30 June 2023)\n",
      "\n",
      "95Part III: Thematic Audit Schemes Eligibility Criteria25Benefits Government- Paid Paternity Leave (GPPL)/ Government- Paid Paternity Benefit (GPPB)(a) Father was lawfully married to the child’s mother at some point between conception and child’s date of birth, or within 12 months commencing on the child’s date of birth. GPPL (b) Father had served his employer, or was self-employed for a continuous period of at least 3 months before the birth of his child or date of Formal Intent to Adopt (FIA). GPPB Working father who was not eligible for GPPL due to his work arrangements might apply for GPPB. (c) Father must have worked for at least 90 days (can be discontinuous) in the 12 months immediately before the child’s date of birth or FIA.Government would reimburse up to 2 weeks of leave/14 days to the applicant.\n",
      "\n",
      "57Part III: Thematic Audit 36. AGO test-checked a total of 141 samples for GPLS covering the various grant stages during the audit period. In addition to the sample checks, AGO performed data analysis where relevant data was available and carried out test checks on possible exceptions highlighted from the analysis. AGO also conducted an audit of the IT general controls and application controls over the GPLS system 7 used to support the schemes. Baby Bonus Scheme – Child Development Account Benefits 37. The Baby Bonus Scheme comprised the Baby Bonus Cash Gift and CDA benefits. The CDA benefits comprised 2 components: the First Step Grant (FSG) and the Government co-matching of parents’ savings into CDA. The FSG was automatically deposited into a child’s CDA when the account was opened, without the parent having to save into the CDA first. As for the Government co-matching grant, the parents’ subsequent savings into the CDA were matched dollar-for-dollar by the Government, up to a cap.\u001b[00m\n",
      "\n",
      "\n",
      "\u001b[1m\u001b[95m# Agent:\u001b[00m \u001b[1m\u001b[92mAudit assistant\u001b[00m\n",
      "\u001b[95m## Final Answer:\u001b[00m \u001b[92m\n",
      "Audit findings pertaining to the baby bonus\n",
      "\n",
      "1. **Government CDA Withdrawals**\n",
      "   - First Step Grant: $231.1 million\n",
      "   - Government Co-matching Grant: $294.6 million\n",
      "   - Total Amount: $1.49 billion\n",
      "   - Total Transactions: 4.42 million\n",
      "   - Number of Approved Institutions as of 11 September 2023: 4,848\n",
      "   - Baby Bonus Scheme – CDA Benefits (1 April 2021 to 30 June 2023)\n",
      "\n",
      "2. **Baby Bonus Scheme – Child Development Account Benefits**\n",
      "   - The Baby Bonus Scheme comprises the Baby Bonus Cash Gift and CDA benefits.\n",
      "   - The CDA benefits comprise two components: the First Step Grant (FSG) and the Government co-matching of parents' savings into CDA.\n",
      "   - The FSG is automatically deposited into a child's CDA when the account is opened, without the parent having to save into the CDA first.\n",
      "   - For the Government co-matching grant, the parents' subsequent savings into the CDA are matched dollar-for-dollar by the Government, up to a cap.\u001b[00m\n",
      "\n",
      "\n",
      "\u001b[1m\u001b[95m# Agent:\u001b[00m \u001b[1m\u001b[92mauditor\u001b[00m\n",
      "\u001b[95m## Task:\u001b[00m \u001b[92m    1. Use the content to craft an audit planning memo and risk assessment based on baby bonus .\n",
      "    2. Sections are properly named in an engaging manner.\n",
      "    3. Proofread for grammatical errors and alignment with the common style used in audit planning memos.\u001b[00m\n"
     ]
    }
   ],
   "source": [
    "result = crew.kickoff(inputs={\"topic\": topic})"
   ]
  },
  {
   "cell_type": "code",
   "execution_count": null,
   "metadata": {},
   "outputs": [],
   "source": [
    "print(f\"Raw Output: {result.raw}\")\n",
    "print(f\"Token Usage: {result.token_usage}\")\n",
    "print(\"-----------------------------------------\\n\\n\")\n",
    "print(f\"Tasks Output of Task 1: {result.tasks_output[0]}\")\n",
    "print(\"-----------------------------------------\\n\\n\")"
   ]
  },
  {
   "cell_type": "code",
   "execution_count": null,
   "metadata": {},
   "outputs": [],
   "source": [
    "# tool = SerperDevTool(n_results=3, country=\"sg\")\n",
    "\n",
    "# agent = Agent(\n",
    "#     role=\"search agent\",\n",
    "#     goal=\"return most relevant information, in the context of Singapore, that is related to policy and regulation on {topic}\" ,\n",
    "#     backstory=\"\"\"You're working on gathering all relavant policy and regualtion information on {topic}.\n",
    "#     \"\"\",\n",
    "#     allow_delegation=False,\n",
    "#     verbose=True,\n",
    "#     max_iter=40\n",
    "# )\n",
    "\n",
    "# task = Task(\n",
    "#     description=\"\"\"return most relevant information, in the context of Singapore, that is related to policy and regulation on {topic}\n",
    "#     \"\"\",\n",
    "#     expected_output=\"\"\"\\\n",
    "#     A detailed report with most relevant information information that is related to policy and regulation on {topic}.\"\"\",\n",
    "\n",
    "#     agent=agent,\n",
    "#     tools=[tool],\n",
    "# )\n",
    "\n",
    "# crew = Crew(\n",
    "#     agents=[agent],\n",
    "#     tasks=[task],\n",
    "#     verbose=True\n",
    "# )\n",
    "\n",
    "# result = crew.kickoff(inputs={\"topic\": topic})"
   ]
  },
  {
   "cell_type": "code",
   "execution_count": null,
   "metadata": {},
   "outputs": [],
   "source": [
    "# print(f\"Raw Output: {result.raw}\")\n",
    "# print(f\"Token Usage: {result.token_usage}\")\n",
    "# print(\"-----------------------------------------\\n\\n\")\n",
    "# print(f\"Tasks Output of Task 1: {result.tasks_output[0]}\")\n",
    "# print(\"-----------------------------------------\\n\\n\")\n",
    "# # print(f\"Tasks Output of Task 2: {result.tasks_output[1]}\")"
   ]
  },
  {
   "cell_type": "code",
   "execution_count": null,
   "metadata": {},
   "outputs": [],
   "source": []
  }
 ],
 "metadata": {
  "kernelspec": {
   "display_name": "venv",
   "language": "python",
   "name": "python3"
  },
  "language_info": {
   "codemirror_mode": {
    "name": "ipython",
    "version": 3
   },
   "file_extension": ".py",
   "mimetype": "text/x-python",
   "name": "python",
   "nbconvert_exporter": "python",
   "pygments_lexer": "ipython3",
   "version": "3.12.3"
  }
 },
 "nbformat": 4,
 "nbformat_minor": 2
}
